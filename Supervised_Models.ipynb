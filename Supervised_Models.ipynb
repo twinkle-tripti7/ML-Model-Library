{
  "nbformat": 4,
  "nbformat_minor": 0,
  "metadata": {
    "colab": {
      "provenance": [],
      "toc_visible": true
    },
    "kernelspec": {
      "name": "python3",
      "display_name": "Python 3"
    },
    "language_info": {
      "name": "python"
    }
  },
  "cells": [
    {
      "cell_type": "code",
      "source": [
        "from google.colab import drive\n",
        "drive.mount('/content/drive')"
      ],
      "metadata": {
        "colab": {
          "base_uri": "https://localhost:8080/"
        },
        "id": "hbfq4GczquOT",
        "outputId": "671d6660-a4f6-43b8-c07a-8dcf762da5e3"
      },
      "execution_count": null,
      "outputs": [
        {
          "output_type": "stream",
          "name": "stdout",
          "text": [
            "Mounted at /content/drive\n"
          ]
        }
      ]
    },
    {
      "cell_type": "markdown",
      "source": [
        "# Definition\n"
      ],
      "metadata": {
        "id": "RmG9VvjzZAnJ"
      }
    },
    {
      "cell_type": "markdown",
      "source": [
        "Machine learning is branch of Artificial Intelligence (AI) scientific study of algorithms and statistical models that computer systems use to perform a specific task without being explicitly programmed.\n",
        "\n",
        "Use cases -:\n",
        "1. AI Chatbots like Google Assistant , Siri, Alexa, etc.\n",
        "2. Stock Market Analysis\n",
        "3. Healthcare Systems\n",
        "4. Disease Detection\n",
        "5. Spam Filtration of E-mails\n",
        "6. Traffic Analysis On Google Maps (Using ML models)\n",
        "7. Recommendation Systems (recommending the products according to the interests of the user making use of its feedback on different sites like Amazon, Flipkart and other e-commerce site makes use of it).\n",
        "There exists many examples of Machine learning which we can observe in our daily life.\n",
        "Resources : Refer to internet to checkout other use cases."
      ],
      "metadata": {
        "id": "cHiCHp9Wcrmz"
      }
    },
    {
      "cell_type": "markdown",
      "source": [
        "# Types Of Machine Learning Models"
      ],
      "metadata": {
        "id": "QAcz1YpBZ9lm"
      }
    },
    {
      "cell_type": "markdown",
      "source": [
        "1. Supervised\n",
        "2. Unsupervised\n",
        "3. Reinforcement\n",
        "4. Semi-Supervised\n",
        "5. Active\n",
        "\n",
        "In this entire documentation we will mainly focus on the first four classifications of Machine Learning.\n",
        "\n",
        "Resources :\n",
        "1. https://www.researchgate.net/profile/Batta-Mahesh/publication/344717762_Machine_Learning_Algorithms_-A_Review/links/5f8b2365299bf1b53e2d243a/Machine-Learning-Algorithms-A-Review.pdf?eid=5082902844932096t\n",
        "\n",
        "\n"
      ],
      "metadata": {
        "id": "57RlNCw2f61s"
      }
    },
    {
      "cell_type": "markdown",
      "source": [
        "# # Supervised Learning"
      ],
      "metadata": {
        "id": "_r_kJ3vjhnvE"
      }
    },
    {
      "cell_type": "markdown",
      "source": [
        "Here, the machine is provided with the labelled data for both the input and the output as well. During the training of model , the supervised algorithm generated the mapping function that can identify the expected outputs.\n",
        "\n",
        "Use Cases -:\n",
        "1. Spam Filteration\n",
        "2. Disease Detection\n",
        "3. Image Classification , etc.\n",
        "\n",
        "Supervised algorithm has further two classifications such as-:\n",
        "1. Classification\n",
        "2. Regression"
      ],
      "metadata": {
        "id": "DdeIEoSxhsL0"
      }
    },
    {
      "cell_type": "markdown",
      "source": [
        "# Classification"
      ],
      "metadata": {
        "id": "jYte_Qf6aERR"
      }
    },
    {
      "cell_type": "markdown",
      "source": [
        "Classification : Predict categorical values which divides the data on basis of some category. Maps input features to probability distribution over output classes.\n",
        "\n",
        "Resources: https://www.researchgate.net/profile/Batta-Mahesh/publication/344717762_Machine_Learning_Algorithms_-A_Review/links/5f8b2365299bf1b53e2d243a/Machine-Learning-Algorithms-A-Review.pdf?eid=5082902844932096t\n",
        "\n"
      ],
      "metadata": {
        "id": "RAFRT7rijXJ0"
      }
    },
    {
      "cell_type": "markdown",
      "source": [
        "# # Logistic Regression"
      ],
      "metadata": {
        "id": "1yzQq0froKSb"
      }
    },
    {
      "cell_type": "markdown",
      "source": [
        "## # Prediction of diabetes"
      ],
      "metadata": {
        "id": "yDvSDcaAr4Q5"
      }
    },
    {
      "cell_type": "markdown",
      "source": [
        "## Dataset Link :\n",
        "https://www.kaggle.com/code/mragpavank/pima-indians-diabetes-database/input\n",
        "\n",
        "Description:\n",
        "This dataset is used to predict whether a patient has diabetes based on various medical features. It is a binary classification task that can be effectively handled using Logistic Regression. The dataset includes features such as the number of pregnancies, glucose levels, blood pressure, skin thickness, insulin levels, BMI, diabetes pedigree function, and age.\n",
        "\n",
        "Key Points:\n",
        "\n",
        "Task Type: Binary Classification\n",
        "Model: Logistic Regression\n",
        "Objective: Predict the likelihood of diabetes based on medical features."
      ],
      "metadata": {
        "id": "7aPVFZjloxqZ"
      }
    },
    {
      "cell_type": "markdown",
      "source": [
        "## # Data loading and preprocessing"
      ],
      "metadata": {
        "id": "OHSpb5QXruZC"
      }
    },
    {
      "cell_type": "code",
      "source": [
        "import pandas as pd\n",
        "from sklearn.model_selection import train_test_split\n",
        "from sklearn.preprocessing import StandardScaler\n",
        "from sklearn.linear_model import LogisticRegression\n",
        "from sklearn.metrics import accuracy_score, classification_report, confusion_matrix, roc_auc_score, roc_curve\n",
        "import matplotlib.pyplot as plt\n",
        "\n",
        "# Load the dataset\n",
        "url = \"/content/drive/MyDrive/MyMLNotes/datasets/diabetes.csv\"  # Path where you have saved the dataset\n",
        "data = pd.read_csv(url)  # Use this if your dataset includes headers\n",
        "\n",
        "# Display the first few rows to verify\n",
        "print(data.head())\n",
        "\n",
        "# Check for missing values\n",
        "print(data.isnull().sum())\n",
        "\n",
        "# Separate features and target variable (Outcome)\n",
        "X = data.drop('Outcome', axis=1)\n",
        "y = data['Outcome']\n",
        "\n",
        "# Split the data into training and testing sets\n",
        "X_train, X_test, y_train, y_test = train_test_split(X, y, test_size=0.2, random_state=42, stratify=y)\n",
        "\n",
        "# Standardize the features\n",
        "scaler = StandardScaler()\n",
        "X_train_scaled = scaler.fit_transform(X_train)\n",
        "X_test_scaled = scaler.transform(X_test)\n"
      ],
      "metadata": {
        "colab": {
          "base_uri": "https://localhost:8080/"
        },
        "id": "MAj9d-w6oPBX",
        "outputId": "ae297b2e-bf40-4c81-bbe3-5eaabe9a3a48"
      },
      "execution_count": null,
      "outputs": [
        {
          "output_type": "stream",
          "name": "stdout",
          "text": [
            "   Pregnancies  Glucose  BloodPressure  SkinThickness  Insulin   BMI  \\\n",
            "0            6      148             72             35        0  33.6   \n",
            "1            1       85             66             29        0  26.6   \n",
            "2            8      183             64              0        0  23.3   \n",
            "3            1       89             66             23       94  28.1   \n",
            "4            0      137             40             35      168  43.1   \n",
            "\n",
            "   DiabetesPedigreeFunction  Age  Outcome  \n",
            "0                     0.627   50        1  \n",
            "1                     0.351   31        0  \n",
            "2                     0.672   32        1  \n",
            "3                     0.167   21        0  \n",
            "4                     2.288   33        1  \n",
            "Pregnancies                 0\n",
            "Glucose                     0\n",
            "BloodPressure               0\n",
            "SkinThickness               0\n",
            "Insulin                     0\n",
            "BMI                         0\n",
            "DiabetesPedigreeFunction    0\n",
            "Age                         0\n",
            "Outcome                     0\n",
            "dtype: int64\n"
          ]
        }
      ]
    },
    {
      "cell_type": "markdown",
      "source": [
        "## #Train the Model"
      ],
      "metadata": {
        "id": "uhj7n8DQvVgB"
      }
    },
    {
      "cell_type": "code",
      "source": [
        "# Build and train the Logistic Regression model\n",
        "model = LogisticRegression(random_state=42)\n",
        "model.fit(X_train_scaled, y_train)\n"
      ],
      "metadata": {
        "colab": {
          "base_uri": "https://localhost:8080/",
          "height": 74
        },
        "id": "GjuacFEtvZXy",
        "outputId": "6a851c43-c815-4662-f817-2fe2a9fbfa79"
      },
      "execution_count": null,
      "outputs": [
        {
          "output_type": "execute_result",
          "data": {
            "text/plain": [
              "LogisticRegression(random_state=42)"
            ],
            "text/html": [
              "<style>#sk-container-id-1 {color: black;}#sk-container-id-1 pre{padding: 0;}#sk-container-id-1 div.sk-toggleable {background-color: white;}#sk-container-id-1 label.sk-toggleable__label {cursor: pointer;display: block;width: 100%;margin-bottom: 0;padding: 0.3em;box-sizing: border-box;text-align: center;}#sk-container-id-1 label.sk-toggleable__label-arrow:before {content: \"▸\";float: left;margin-right: 0.25em;color: #696969;}#sk-container-id-1 label.sk-toggleable__label-arrow:hover:before {color: black;}#sk-container-id-1 div.sk-estimator:hover label.sk-toggleable__label-arrow:before {color: black;}#sk-container-id-1 div.sk-toggleable__content {max-height: 0;max-width: 0;overflow: hidden;text-align: left;background-color: #f0f8ff;}#sk-container-id-1 div.sk-toggleable__content pre {margin: 0.2em;color: black;border-radius: 0.25em;background-color: #f0f8ff;}#sk-container-id-1 input.sk-toggleable__control:checked~div.sk-toggleable__content {max-height: 200px;max-width: 100%;overflow: auto;}#sk-container-id-1 input.sk-toggleable__control:checked~label.sk-toggleable__label-arrow:before {content: \"▾\";}#sk-container-id-1 div.sk-estimator input.sk-toggleable__control:checked~label.sk-toggleable__label {background-color: #d4ebff;}#sk-container-id-1 div.sk-label input.sk-toggleable__control:checked~label.sk-toggleable__label {background-color: #d4ebff;}#sk-container-id-1 input.sk-hidden--visually {border: 0;clip: rect(1px 1px 1px 1px);clip: rect(1px, 1px, 1px, 1px);height: 1px;margin: -1px;overflow: hidden;padding: 0;position: absolute;width: 1px;}#sk-container-id-1 div.sk-estimator {font-family: monospace;background-color: #f0f8ff;border: 1px dotted black;border-radius: 0.25em;box-sizing: border-box;margin-bottom: 0.5em;}#sk-container-id-1 div.sk-estimator:hover {background-color: #d4ebff;}#sk-container-id-1 div.sk-parallel-item::after {content: \"\";width: 100%;border-bottom: 1px solid gray;flex-grow: 1;}#sk-container-id-1 div.sk-label:hover label.sk-toggleable__label {background-color: #d4ebff;}#sk-container-id-1 div.sk-serial::before {content: \"\";position: absolute;border-left: 1px solid gray;box-sizing: border-box;top: 0;bottom: 0;left: 50%;z-index: 0;}#sk-container-id-1 div.sk-serial {display: flex;flex-direction: column;align-items: center;background-color: white;padding-right: 0.2em;padding-left: 0.2em;position: relative;}#sk-container-id-1 div.sk-item {position: relative;z-index: 1;}#sk-container-id-1 div.sk-parallel {display: flex;align-items: stretch;justify-content: center;background-color: white;position: relative;}#sk-container-id-1 div.sk-item::before, #sk-container-id-1 div.sk-parallel-item::before {content: \"\";position: absolute;border-left: 1px solid gray;box-sizing: border-box;top: 0;bottom: 0;left: 50%;z-index: -1;}#sk-container-id-1 div.sk-parallel-item {display: flex;flex-direction: column;z-index: 1;position: relative;background-color: white;}#sk-container-id-1 div.sk-parallel-item:first-child::after {align-self: flex-end;width: 50%;}#sk-container-id-1 div.sk-parallel-item:last-child::after {align-self: flex-start;width: 50%;}#sk-container-id-1 div.sk-parallel-item:only-child::after {width: 0;}#sk-container-id-1 div.sk-dashed-wrapped {border: 1px dashed gray;margin: 0 0.4em 0.5em 0.4em;box-sizing: border-box;padding-bottom: 0.4em;background-color: white;}#sk-container-id-1 div.sk-label label {font-family: monospace;font-weight: bold;display: inline-block;line-height: 1.2em;}#sk-container-id-1 div.sk-label-container {text-align: center;}#sk-container-id-1 div.sk-container {/* jupyter's `normalize.less` sets `[hidden] { display: none; }` but bootstrap.min.css set `[hidden] { display: none !important; }` so we also need the `!important` here to be able to override the default hidden behavior on the sphinx rendered scikit-learn.org. See: https://github.com/scikit-learn/scikit-learn/issues/21755 */display: inline-block !important;position: relative;}#sk-container-id-1 div.sk-text-repr-fallback {display: none;}</style><div id=\"sk-container-id-1\" class=\"sk-top-container\"><div class=\"sk-text-repr-fallback\"><pre>LogisticRegression(random_state=42)</pre><b>In a Jupyter environment, please rerun this cell to show the HTML representation or trust the notebook. <br />On GitHub, the HTML representation is unable to render, please try loading this page with nbviewer.org.</b></div><div class=\"sk-container\" hidden><div class=\"sk-item\"><div class=\"sk-estimator sk-toggleable\"><input class=\"sk-toggleable__control sk-hidden--visually\" id=\"sk-estimator-id-1\" type=\"checkbox\" checked><label for=\"sk-estimator-id-1\" class=\"sk-toggleable__label sk-toggleable__label-arrow\">LogisticRegression</label><div class=\"sk-toggleable__content\"><pre>LogisticRegression(random_state=42)</pre></div></div></div></div></div>"
            ]
          },
          "metadata": {},
          "execution_count": 8
        }
      ]
    },
    {
      "cell_type": "markdown",
      "source": [
        "## #Make Predictions and Evaluate the Model"
      ],
      "metadata": {
        "id": "CUMpz6FAvcP1"
      }
    },
    {
      "cell_type": "code",
      "source": [
        "# Make predictions\n",
        "y_pred = model.predict(X_test_scaled)\n",
        "\n",
        "# Evaluate the model\n",
        "accuracy = accuracy_score(y_test, y_pred)\n",
        "print(f\"Accuracy: {accuracy:.4f}\")\n",
        "\n",
        "print(\"Classification Report:\")\n",
        "print(classification_report(y_test, y_pred))\n",
        "\n",
        "print(\"Confusion Matrix:\")\n",
        "print(confusion_matrix(y_test, y_pred))\n",
        "\n",
        "# ROC-AUC Score\n",
        "y_prob = model.predict_proba(X_test_scaled)[:, 1]  # Probability estimates for the positive class\n",
        "roc_auc = roc_auc_score(y_test, y_prob)\n",
        "print(f\"ROC-AUC Score: {roc_auc:.4f}\")\n"
      ],
      "metadata": {
        "colab": {
          "base_uri": "https://localhost:8080/"
        },
        "id": "9BQJJ8fBvgUg",
        "outputId": "dd68c30f-1a24-4d54-8fca-cb8282c18b7b"
      },
      "execution_count": null,
      "outputs": [
        {
          "output_type": "stream",
          "name": "stdout",
          "text": [
            "Accuracy: 0.7143\n",
            "Classification Report:\n",
            "              precision    recall  f1-score   support\n",
            "\n",
            "           0       0.76      0.82      0.79       100\n",
            "           1       0.61      0.52      0.56        54\n",
            "\n",
            "    accuracy                           0.71       154\n",
            "   macro avg       0.68      0.67      0.67       154\n",
            "weighted avg       0.71      0.71      0.71       154\n",
            "\n",
            "Confusion Matrix:\n",
            "[[82 18]\n",
            " [26 28]]\n",
            "ROC-AUC Score: 0.8230\n"
          ]
        }
      ]
    },
    {
      "cell_type": "markdown",
      "source": [
        "## #Plot the AUC-ROC curve"
      ],
      "metadata": {
        "id": "WZkvgtkdvlJD"
      }
    },
    {
      "cell_type": "code",
      "source": [
        "# ROC Curve\n",
        "fpr, tpr, thresholds = roc_curve(y_test, y_prob)\n",
        "plt.figure()\n",
        "plt.plot(fpr, tpr, marker='.', label='Logistic Regression (AUC = %.4f)' % roc_auc)\n",
        "plt.xlabel('False Positive Rate')\n",
        "plt.ylabel('True Positive Rate')\n",
        "plt.title('ROC Curve')\n",
        "plt.legend()\n",
        "plt.show()\n"
      ],
      "metadata": {
        "colab": {
          "base_uri": "https://localhost:8080/",
          "height": 472
        },
        "id": "0lwZtupVvtTR",
        "outputId": "36f2fdb6-6d14-46b6-ce97-9a23f79ebf74"
      },
      "execution_count": null,
      "outputs": [
        {
          "output_type": "display_data",
          "data": {
            "text/plain": [
              "<Figure size 640x480 with 1 Axes>"
            ],
            "image/png": "[encoded data removed]"
          },
          "metadata": {}
        }
      ]
    },
    {
      "cell_type": "markdown",
      "source": [
        "# # K Nearest Neighbour"
      ],
      "metadata": {
        "id": "ijVAdkk_v5Kv"
      }
    },
    {
      "cell_type": "markdown",
      "source": [
        "## # Dataset link :\n",
        "https://www.kaggle.com/datasets/arshid/iris-flower-dataset\n",
        "\n",
        "The Iris dataset is a classic dataset used for classification tasks. It contains measurements of different features for three species of iris flowers."
      ],
      "metadata": {
        "id": "6QGz9DMEwWKS"
      }
    },
    {
      "cell_type": "markdown",
      "source": [
        "## #Data loading and preprocessing"
      ],
      "metadata": {
        "id": "zul9OwcOxVgz"
      }
    },
    {
      "cell_type": "code",
      "source": [
        "import pandas as pd\n",
        "from sklearn.datasets import load_iris\n",
        "\n",
        "# Load the Iris dataset\n",
        "iris = load_iris()\n",
        "data = pd.DataFrame(data=iris.data, columns=iris.feature_names)\n",
        "data['species'] = iris.target_names[iris.target]\n",
        "\n",
        "# Display the first few rows\n",
        "print(data.head())\n",
        "\n",
        "\n",
        "# Separate features and target variable\n",
        "X = data.drop('species', axis=1)  # Features\n",
        "y = data['species']  # Target variable\n",
        "\n",
        "\n"
      ],
      "metadata": {
        "colab": {
          "base_uri": "https://localhost:8080/"
        },
        "id": "Jkx6XP6DxeX9",
        "outputId": "5a847e96-a128-4f20-f030-e31e4d2aba7b"
      },
      "execution_count": null,
      "outputs": [
        {
          "output_type": "stream",
          "name": "stdout",
          "text": [
            "   sepal length (cm)  sepal width (cm)  petal length (cm)  petal width (cm)  \\\n",
            "0                5.1               3.5                1.4               0.2   \n",
            "1                4.9               3.0                1.4               0.2   \n",
            "2                4.7               3.2                1.3               0.2   \n",
            "3                4.6               3.1                1.5               0.2   \n",
            "4                5.0               3.6                1.4               0.2   \n",
            "\n",
            "  species  \n",
            "0  setosa  \n",
            "1  setosa  \n",
            "2  setosa  \n",
            "3  setosa  \n",
            "4  setosa  \n"
          ]
        }
      ]
    },
    {
      "cell_type": "markdown",
      "source": [
        "## # splitting the data for training and testing"
      ],
      "metadata": {
        "id": "xscKtCH-x-7X"
      }
    },
    {
      "cell_type": "code",
      "source": [
        "from sklearn.model_selection import train_test_split\n",
        "from sklearn.preprocessing import StandardScaler\n",
        "\n",
        "# Split the data into training and testing sets\n",
        "X_train, X_test, y_train, y_test = train_test_split(X, y, test_size=0.2, random_state=42, stratify=y)\n",
        "\n",
        "# Standardize the features\n",
        "scaler = StandardScaler()\n",
        "X_train_scaled = scaler.fit_transform(X_train)\n",
        "X_test_scaled = scaler.transform(X_test)\n"
      ],
      "metadata": {
        "id": "4eoaHgTayC9h"
      },
      "execution_count": null,
      "outputs": []
    },
    {
      "cell_type": "markdown",
      "source": [
        "## #Training and Evaluating KNN Model"
      ],
      "metadata": {
        "id": "HKUwjKU_yFk7"
      }
    },
    {
      "cell_type": "code",
      "source": [
        "from sklearn.neighbors import KNeighborsClassifier\n",
        "from sklearn.metrics import accuracy_score\n",
        "\n",
        "# Train KNN model\n",
        "knn = KNeighborsClassifier(n_neighbors=5)\n",
        "knn.fit(X_train_scaled, y_train)\n",
        "\n",
        "# Predict and evaluate\n",
        "y_pred = knn.predict(X_test_scaled)\n",
        "print(f\"Accuracy: {accuracy_score(y_test, y_pred):.4f}\")\n"
      ],
      "metadata": {
        "colab": {
          "base_uri": "https://localhost:8080/"
        },
        "id": "P6jRogOZyIlD",
        "outputId": "f04c9593-a385-42a4-fda0-3f461cc379f7"
      },
      "execution_count": null,
      "outputs": [
        {
          "output_type": "stream",
          "name": "stdout",
          "text": [
            "Accuracy: 0.9333\n"
          ]
        }
      ]
    },
    {
      "cell_type": "markdown",
      "source": [
        "# Support Vector Machines"
      ],
      "metadata": {
        "id": "o5bIU2m3yZ7M"
      }
    },
    {
      "cell_type": "markdown",
      "source": [
        "## # Dataset link: same as used for KNearest Neighbour\n"
      ],
      "metadata": {
        "id": "PxrxVUOnyglL"
      }
    },
    {
      "cell_type": "markdown",
      "source": [
        "## #Data loading and preprocessing"
      ],
      "metadata": {
        "id": "w0OK4AqIyvUR"
      }
    },
    {
      "cell_type": "code",
      "source": [
        "import pandas as pd\n",
        "from sklearn.datasets import load_iris\n",
        "from sklearn.model_selection import train_test_split\n",
        "from sklearn.preprocessing import StandardScaler\n",
        "from sklearn.svm import SVC\n",
        "from sklearn.metrics import accuracy_score\n",
        "\n",
        "# Load the Iris dataset\n",
        "iris = load_iris()\n",
        "data = pd.DataFrame(data=iris.data, columns=iris.feature_names)\n",
        "data['species'] = iris.target_names[iris.target]\n",
        "\n",
        "# Display the first few rows\n",
        "print(data.head())\n",
        "\n",
        "# Separate features and target variable\n",
        "X = data.drop('species', axis=1)  # Features\n",
        "y = data['species']  # Target variable\n"
      ],
      "metadata": {
        "colab": {
          "base_uri": "https://localhost:8080/"
        },
        "id": "maTFnJ-Iy2Fs",
        "outputId": "871eb8de-4901-4d54-fde5-99a3141a5451"
      },
      "execution_count": null,
      "outputs": [
        {
          "output_type": "stream",
          "name": "stdout",
          "text": [
            "   sepal length (cm)  sepal width (cm)  petal length (cm)  petal width (cm)  \\\n",
            "0                5.1               3.5                1.4               0.2   \n",
            "1                4.9               3.0                1.4               0.2   \n",
            "2                4.7               3.2                1.3               0.2   \n",
            "3                4.6               3.1                1.5               0.2   \n",
            "4                5.0               3.6                1.4               0.2   \n",
            "\n",
            "  species  \n",
            "0  setosa  \n",
            "1  setosa  \n",
            "2  setosa  \n",
            "3  setosa  \n",
            "4  setosa  \n"
          ]
        }
      ]
    },
    {
      "cell_type": "markdown",
      "source": [
        "## #Split the data"
      ],
      "metadata": {
        "id": "Q1DphUlRy9uT"
      }
    },
    {
      "cell_type": "code",
      "source": [
        "# Split the data into training and testing sets\n",
        "X_train, X_test, y_train, y_test = train_test_split(X, y, test_size=0.2, random_state=42, stratify=y)\n",
        "\n",
        "# Standardize the features\n",
        "scaler = StandardScaler()\n",
        "X_train_scaled = scaler.fit_transform(X_train)\n",
        "X_test_scaled = scaler.transform(X_test)"
      ],
      "metadata": {
        "id": "STELhCECzBUH"
      },
      "execution_count": null,
      "outputs": []
    },
    {
      "cell_type": "markdown",
      "source": [
        "## # Training and evaluating the model"
      ],
      "metadata": {
        "id": "kxbIN_t5zFC9"
      }
    },
    {
      "cell_type": "code",
      "source": [
        "# Train SVM model\n",
        "svm = SVC(kernel='linear', probability=True)\n",
        "svm.fit(X_train_scaled, y_train)\n",
        "\n",
        "# Predict and evaluate\n",
        "y_pred = svm.predict(X_test_scaled)\n",
        "print(f\"SVM Accuracy: {accuracy_score(y_test, y_pred):.4f}\")"
      ],
      "metadata": {
        "colab": {
          "base_uri": "https://localhost:8080/"
        },
        "id": "yd93lgJKzJx5",
        "outputId": "fc9603f0-20e1-4ffb-e317-44f2d7fe08eb"
      },
      "execution_count": null,
      "outputs": [
        {
          "output_type": "stream",
          "name": "stdout",
          "text": [
            "SVM Accuracy: 1.0000\n"
          ]
        }
      ]
    },
    {
      "cell_type": "markdown",
      "source": [
        "# #Naive Bayes"
      ],
      "metadata": {
        "id": "Pb0LdTcRzUCj"
      }
    },
    {
      "cell_type": "markdown",
      "source": [
        "## #Dataset link:\n",
        "https://www.google.com/url?q=https%3A%2F%2Fwww.kaggle.com%2Fdatasets%2Farshid%2Firis-flower-dataset"
      ],
      "metadata": {
        "id": "FPfmN5yUzaOr"
      }
    },
    {
      "cell_type": "markdown",
      "source": [
        "## # Data loading and Preprocessing"
      ],
      "metadata": {
        "id": "sthAabBgz3YE"
      }
    },
    {
      "cell_type": "code",
      "source": [
        "import pandas as pd\n",
        "from sklearn.datasets import load_iris\n",
        "from sklearn.model_selection import train_test_split\n",
        "from sklearn.preprocessing import StandardScaler\n",
        "from sklearn.naive_bayes import GaussianNB\n",
        "from sklearn.metrics import accuracy_score, classification_report, confusion_matrix\n",
        "\n",
        "# Load the Iris dataset\n",
        "iris = load_iris()\n",
        "data = pd.DataFrame(data=iris.data, columns=iris.feature_names)\n",
        "data['species'] = iris.target_names[iris.target]\n",
        "\n",
        "# Display the first few rows\n",
        "print(data.head())\n",
        "\n",
        "# Separate features and target variable\n",
        "X = data.drop('species', axis=1)  # Features\n",
        "y = data['species']  # Target variable\n",
        "\n"
      ],
      "metadata": {
        "colab": {
          "base_uri": "https://localhost:8080/"
        },
        "id": "MiGtpH6f15My",
        "outputId": "cc452b11-0373-42b2-a93a-e465d870d853"
      },
      "execution_count": null,
      "outputs": [
        {
          "output_type": "stream",
          "name": "stdout",
          "text": [
            "   sepal length (cm)  sepal width (cm)  petal length (cm)  petal width (cm)  \\\n",
            "0                5.1               3.5                1.4               0.2   \n",
            "1                4.9               3.0                1.4               0.2   \n",
            "2                4.7               3.2                1.3               0.2   \n",
            "3                4.6               3.1                1.5               0.2   \n",
            "4                5.0               3.6                1.4               0.2   \n",
            "\n",
            "  species  \n",
            "0  setosa  \n",
            "1  setosa  \n",
            "2  setosa  \n",
            "3  setosa  \n",
            "4  setosa  \n"
          ]
        }
      ]
    },
    {
      "cell_type": "markdown",
      "source": [
        "## #Split the data"
      ],
      "metadata": {
        "id": "CT5lZZ6X1-PL"
      }
    },
    {
      "cell_type": "code",
      "source": [
        "# Split the data into training and testing sets\n",
        "X_train, X_test, y_train, y_test = train_test_split(X, y, test_size=0.2, random_state=42, stratify=y)\n",
        "\n",
        "# Standardize the features (optional, as Naive Bayes is generally not sensitive to feature scaling)\n",
        "scaler = StandardScaler()\n",
        "X_train_scaled = scaler.fit_transform(X_train)\n",
        "X_test_scaled = scaler.transform(X_test)\n",
        "\n",
        "\n"
      ],
      "metadata": {
        "id": "z5tOvyLY2CGz"
      },
      "execution_count": null,
      "outputs": []
    },
    {
      "cell_type": "markdown",
      "source": [
        "## # training and evaluating the model"
      ],
      "metadata": {
        "id": "bmSG08Ea2H5K"
      }
    },
    {
      "cell_type": "code",
      "source": [
        "# Train Naive Bayes model\n",
        "nb = GaussianNB()\n",
        "nb.fit(X_train_scaled, y_train)\n",
        "\n",
        "# Predict and evaluate\n",
        "y_pred = nb.predict(X_test_scaled)\n",
        "print(f\"Naive Bayes Accuracy: {accuracy_score(y_test, y_pred):.4f}\")\n",
        "\n",
        "# Print classification report and confusion matrix\n",
        "print(\"\\nClassification Report:\")\n",
        "print(classification_report(y_test, y_pred))\n",
        "\n"
      ],
      "metadata": {
        "colab": {
          "base_uri": "https://localhost:8080/"
        },
        "id": "QGeHUfbL2PNZ",
        "outputId": "808b004e-296d-4afa-c321-6628c980fbd8"
      },
      "execution_count": null,
      "outputs": [
        {
          "output_type": "stream",
          "name": "stdout",
          "text": [
            "Naive Bayes Accuracy: 0.9667\n",
            "\n",
            "Classification Report:\n",
            "              precision    recall  f1-score   support\n",
            "\n",
            "      setosa       1.00      1.00      1.00        10\n",
            "  versicolor       1.00      0.90      0.95        10\n",
            "   virginica       0.91      1.00      0.95        10\n",
            "\n",
            "    accuracy                           0.97        30\n",
            "   macro avg       0.97      0.97      0.97        30\n",
            "weighted avg       0.97      0.97      0.97        30\n",
            "\n"
          ]
        }
      ]
    },
    {
      "cell_type": "markdown",
      "source": [
        "# Random Forest"
      ],
      "metadata": {
        "id": "EsSN0ns02VCC"
      }
    },
    {
      "cell_type": "markdown",
      "source": [
        "## # Dataset Link:\n",
        "https://www.kaggle.com/datasets/balaka18/email-spam-classification-dataset-csv\n",
        "\n"
      ],
      "metadata": {
        "id": "lePKqhSM2XPl"
      }
    },
    {
      "cell_type": "markdown",
      "source": [
        "## # Data loading and preprocessing"
      ],
      "metadata": {
        "id": "wHW8T6Wf3gA5"
      }
    },
    {
      "cell_type": "code",
      "source": [
        "import pandas as pd\n",
        "from sklearn.model_selection import train_test_split\n",
        "from sklearn.ensemble import RandomForestClassifier\n",
        "from sklearn.metrics import accuracy_score, classification_report, confusion_matrix\n",
        "\n",
        "# Load the dataset\n",
        "url = \"https://archive.ics.uci.edu/ml/machine-learning-databases/spambase/spambase.data\"\n",
        "column_names = [f'feature_{i}' for i in range(57)] + ['spam']\n",
        "data = pd.read_csv(url, header=None, names=column_names)\n",
        "\n",
        "# Display the first few rows\n",
        "print(data.head())\n",
        "\n",
        "# Separate features and target variable\n",
        "X = data.drop('spam', axis=1)  # Features\n",
        "y = data['spam']  # Target variable\n",
        "\n",
        "\n"
      ],
      "metadata": {
        "colab": {
          "base_uri": "https://localhost:8080/"
        },
        "id": "sd2kfLhd3kQt",
        "outputId": "102aa9ee-00fb-4991-9118-93c355a16a72"
      },
      "execution_count": null,
      "outputs": [
        {
          "output_type": "stream",
          "name": "stdout",
          "text": [
            "   feature_0  feature_1  feature_2  feature_3  feature_4  feature_5  \\\n",
            "0       0.00       0.64       0.64        0.0       0.32       0.00   \n",
            "1       0.21       0.28       0.50        0.0       0.14       0.28   \n",
            "2       0.06       0.00       0.71        0.0       1.23       0.19   \n",
            "3       0.00       0.00       0.00        0.0       0.63       0.00   \n",
            "4       0.00       0.00       0.00        0.0       0.63       0.00   \n",
            "\n",
            "   feature_6  feature_7  feature_8  feature_9  ...  feature_48  feature_49  \\\n",
            "0       0.00       0.00       0.00       0.00  ...        0.00       0.000   \n",
            "1       0.21       0.07       0.00       0.94  ...        0.00       0.132   \n",
            "2       0.19       0.12       0.64       0.25  ...        0.01       0.143   \n",
            "3       0.31       0.63       0.31       0.63  ...        0.00       0.137   \n",
            "4       0.31       0.63       0.31       0.63  ...        0.00       0.135   \n",
            "\n",
            "   feature_50  feature_51  feature_52  feature_53  feature_54  feature_55  \\\n",
            "0         0.0       0.778       0.000       0.000       3.756          61   \n",
            "1         0.0       0.372       0.180       0.048       5.114         101   \n",
            "2         0.0       0.276       0.184       0.010       9.821         485   \n",
            "3         0.0       0.137       0.000       0.000       3.537          40   \n",
            "4         0.0       0.135       0.000       0.000       3.537          40   \n",
            "\n",
            "   feature_56  spam  \n",
            "0         278     1  \n",
            "1        1028     1  \n",
            "2        2259     1  \n",
            "3         191     1  \n",
            "4         191     1  \n",
            "\n",
            "[5 rows x 58 columns]\n"
          ]
        }
      ]
    },
    {
      "cell_type": "markdown",
      "source": [
        "## #Split the data"
      ],
      "metadata": {
        "id": "UE9ObxDV3rX6"
      }
    },
    {
      "cell_type": "code",
      "source": [
        "# Split the data into training and testing sets\n",
        "X_train, X_test, y_train, y_test = train_test_split(X, y, test_size=0.2, random_state=42)\n",
        "\n"
      ],
      "metadata": {
        "id": "iQ3UEhPz3tgQ"
      },
      "execution_count": null,
      "outputs": []
    },
    {
      "cell_type": "markdown",
      "source": [
        "## # Training and evaluation\n"
      ],
      "metadata": {
        "id": "GRDuHjcQ3v6L"
      }
    },
    {
      "cell_type": "code",
      "source": [
        "# Train Random Forest model\n",
        "rf = RandomForestClassifier(n_estimators=100, random_state=42)  # You can tune n_estimators and other hyperparameters\n",
        "rf.fit(X_train, y_train)\n",
        "\n",
        "# Predict and evaluate\n",
        "y_pred = rf.predict(X_test)\n",
        "print(f\"Random Forest Accuracy: {accuracy_score(y_test, y_pred):.4f}\")\n",
        "\n",
        "# Print classification report and confusion matrix\n",
        "print(\"\\nClassification Report:\")\n",
        "print(classification_report(y_test, y_pred))\n",
        "\n"
      ],
      "metadata": {
        "colab": {
          "base_uri": "https://localhost:8080/"
        },
        "id": "UJ7wV3653zzT",
        "outputId": "7376f076-4181-4546-8e62-ff6c2ca55f8a"
      },
      "execution_count": null,
      "outputs": [
        {
          "output_type": "stream",
          "name": "stdout",
          "text": [
            "Random Forest Accuracy: 0.9555\n",
            "\n",
            "Classification Report:\n",
            "              precision    recall  f1-score   support\n",
            "\n",
            "           0       0.94      0.98      0.96       531\n",
            "           1       0.98      0.92      0.95       390\n",
            "\n",
            "    accuracy                           0.96       921\n",
            "   macro avg       0.96      0.95      0.95       921\n",
            "weighted avg       0.96      0.96      0.96       921\n",
            "\n"
          ]
        }
      ]
    },
    {
      "cell_type": "markdown",
      "source": [
        "# Decision Tree"
      ],
      "metadata": {
        "id": "I46GleNN4AVh"
      }
    },
    {
      "cell_type": "markdown",
      "source": [
        "## #Dataset link:\n",
        "https://www.kaggle.com/datasets/balaka18/email-spam-classification-dataset-csv"
      ],
      "metadata": {
        "id": "dBaZ4PvG4DAq"
      }
    },
    {
      "cell_type": "markdown",
      "source": [
        "## #Data Loading and preprocessing"
      ],
      "metadata": {
        "id": "thMw8BzD4Pnd"
      }
    },
    {
      "cell_type": "code",
      "source": [
        "import pandas as pd\n",
        "from sklearn.model_selection import train_test_split\n",
        "from sklearn.feature_extraction.text import TfidfVectorizer\n",
        "from sklearn.tree import DecisionTreeClassifier\n",
        "from sklearn.metrics import accuracy_score, classification_report, confusion_matrix\n",
        "\n",
        "# Load the dataset\n",
        "url = \"https://archive.ics.uci.edu/ml/machine-learning-databases/spambase/spambase.data\"\n",
        "column_names = [f'feature_{i}' for i in range(57)] + ['spam']\n",
        "data = pd.read_csv(url, header=None, names=column_names)\n",
        "\n",
        "# Display the first few rows\n",
        "print(data.head())\n",
        "\n",
        "# Separate features and target variable\n",
        "X = data.drop('spam', axis=1)  # Features\n",
        "y = data['spam']  # Target variable\n",
        "\n",
        "\n"
      ],
      "metadata": {
        "colab": {
          "base_uri": "https://localhost:8080/"
        },
        "id": "3z8LrGY34aGu",
        "outputId": "55e3e5c5-4229-4ded-892b-a8df1a7ae6a4"
      },
      "execution_count": null,
      "outputs": [
        {
          "output_type": "stream",
          "name": "stdout",
          "text": [
            "   feature_0  feature_1  feature_2  feature_3  feature_4  feature_5  \\\n",
            "0       0.00       0.64       0.64        0.0       0.32       0.00   \n",
            "1       0.21       0.28       0.50        0.0       0.14       0.28   \n",
            "2       0.06       0.00       0.71        0.0       1.23       0.19   \n",
            "3       0.00       0.00       0.00        0.0       0.63       0.00   \n",
            "4       0.00       0.00       0.00        0.0       0.63       0.00   \n",
            "\n",
            "   feature_6  feature_7  feature_8  feature_9  ...  feature_48  feature_49  \\\n",
            "0       0.00       0.00       0.00       0.00  ...        0.00       0.000   \n",
            "1       0.21       0.07       0.00       0.94  ...        0.00       0.132   \n",
            "2       0.19       0.12       0.64       0.25  ...        0.01       0.143   \n",
            "3       0.31       0.63       0.31       0.63  ...        0.00       0.137   \n",
            "4       0.31       0.63       0.31       0.63  ...        0.00       0.135   \n",
            "\n",
            "   feature_50  feature_51  feature_52  feature_53  feature_54  feature_55  \\\n",
            "0         0.0       0.778       0.000       0.000       3.756          61   \n",
            "1         0.0       0.372       0.180       0.048       5.114         101   \n",
            "2         0.0       0.276       0.184       0.010       9.821         485   \n",
            "3         0.0       0.137       0.000       0.000       3.537          40   \n",
            "4         0.0       0.135       0.000       0.000       3.537          40   \n",
            "\n",
            "   feature_56  spam  \n",
            "0         278     1  \n",
            "1        1028     1  \n",
            "2        2259     1  \n",
            "3         191     1  \n",
            "4         191     1  \n",
            "\n",
            "[5 rows x 58 columns]\n"
          ]
        }
      ]
    },
    {
      "cell_type": "markdown",
      "source": [
        "## #Split the data"
      ],
      "metadata": {
        "id": "9fijgo8N4S9T"
      }
    },
    {
      "cell_type": "code",
      "source": [
        "# Split the data into training and testing sets\n",
        "X_train, X_test, y_train, y_test = train_test_split(X, y, test_size=0.2, random_state=42)\n",
        "\n"
      ],
      "metadata": {
        "id": "xk2jHxrx4VHw"
      },
      "execution_count": null,
      "outputs": []
    },
    {
      "cell_type": "markdown",
      "source": [
        "## #Training and evaluation"
      ],
      "metadata": {
        "id": "x6EnFuMx4Vej"
      }
    },
    {
      "cell_type": "code",
      "source": [
        "# Train Decision Tree model\n",
        "clf = DecisionTreeClassifier(random_state=42)\n",
        "clf.fit(X_train, y_train)\n",
        "\n",
        "# Predict and evaluate\n",
        "y_pred = clf.predict(X_test)\n",
        "print(f\"Decision Tree Accuracy: {accuracy_score(y_test, y_pred):.4f}\")\n",
        "\n",
        "# Print classification report and confusion matrix\n",
        "print(\"\\nClassification Report:\")\n",
        "print(classification_report(y_test, y_pred))\n",
        "\n"
      ],
      "metadata": {
        "colab": {
          "base_uri": "https://localhost:8080/"
        },
        "id": "kQ0wXnh14ZVM",
        "outputId": "4daebf13-7037-41fb-9139-8e3fddfb0999"
      },
      "execution_count": null,
      "outputs": [
        {
          "output_type": "stream",
          "name": "stdout",
          "text": [
            "Decision Tree Accuracy: 0.9186\n",
            "\n",
            "Classification Report:\n",
            "              precision    recall  f1-score   support\n",
            "\n",
            "           0       0.92      0.94      0.93       531\n",
            "           1       0.92      0.88      0.90       390\n",
            "\n",
            "    accuracy                           0.92       921\n",
            "   macro avg       0.92      0.91      0.92       921\n",
            "weighted avg       0.92      0.92      0.92       921\n",
            "\n"
          ]
        }
      ]
    },
    {
      "cell_type": "markdown",
      "source": [
        "# Regression"
      ],
      "metadata": {
        "id": "-qGvFz3s5PzD"
      }
    },
    {
      "cell_type": "markdown",
      "source": [
        "Regression : Used to predict continuous integer/ Numeric values.\n",
        "\n"
      ],
      "metadata": {
        "id": "go3NdoFhoROb"
      }
    },
    {
      "cell_type": "markdown",
      "source": [
        "# Linear Regression"
      ],
      "metadata": {
        "id": "YG6CqO1V5kuo"
      }
    },
    {
      "cell_type": "markdown",
      "source": [
        "##  #Data loading and preprocessing"
      ],
      "metadata": {
        "id": "calyRhLy63qU"
      }
    },
    {
      "cell_type": "code",
      "source": [
        "from sklearn.datasets import load_diabetes\n",
        "import pandas as pd\n",
        "\n",
        "# Load the dataset\n",
        "diabetes = load_diabetes()\n",
        "\n",
        "# Create a DataFrame\n",
        "data = pd.DataFrame(diabetes.data, columns=diabetes.feature_names)\n",
        "data['TARGET'] = diabetes.target\n",
        "\n",
        "# Print first few rows\n",
        "print(data.head())\n",
        "\n",
        "# Define target variable and features\n",
        "X = data.drop('TARGET', axis=1)\n",
        "y = data['TARGET']\n"
      ],
      "metadata": {
        "colab": {
          "base_uri": "https://localhost:8080/"
        },
        "id": "Ux0AZV8L7DUk",
        "outputId": "23576505-6275-4ebc-a907-ccfaca23267a"
      },
      "execution_count": null,
      "outputs": [
        {
          "output_type": "stream",
          "name": "stdout",
          "text": [
            "        age       sex       bmi        bp        s1        s2        s3  \\\n",
            "0  0.038076  0.050680  0.061696  0.021872 -0.044223 -0.034821 -0.043401   \n",
            "1 -0.001882 -0.044642 -0.051474 -0.026328 -0.008449 -0.019163  0.074412   \n",
            "2  0.085299  0.050680  0.044451 -0.005670 -0.045599 -0.034194 -0.032356   \n",
            "3 -0.089063 -0.044642 -0.011595 -0.036656  0.012191  0.024991 -0.036038   \n",
            "4  0.005383 -0.044642 -0.036385  0.021872  0.003935  0.015596  0.008142   \n",
            "\n",
            "         s4        s5        s6  TARGET  \n",
            "0 -0.002592  0.019907 -0.017646   151.0  \n",
            "1 -0.039493 -0.068332 -0.092204    75.0  \n",
            "2 -0.002592  0.002861 -0.025930   141.0  \n",
            "3  0.034309  0.022688 -0.009362   206.0  \n",
            "4 -0.002592 -0.031988 -0.046641   135.0  \n"
          ]
        }
      ]
    },
    {
      "cell_type": "markdown",
      "source": [
        "## # Split the data"
      ],
      "metadata": {
        "id": "a7Mn7kiL68Qb"
      }
    },
    {
      "cell_type": "code",
      "source": [
        "from sklearn.model_selection import train_test_split\n",
        "\n",
        "# Split the data into training and testing sets\n",
        "X_train, X_test, y_train, y_test = train_test_split(X, y, test_size=0.2, random_state=42)\n"
      ],
      "metadata": {
        "id": "brkWYqQk7EGt"
      },
      "execution_count": null,
      "outputs": []
    },
    {
      "cell_type": "markdown",
      "source": [
        "## Training and evaluation"
      ],
      "metadata": {
        "id": "HKLJc1GT7AUy"
      }
    },
    {
      "cell_type": "code",
      "source": [
        "from sklearn.linear_model import LinearRegression\n",
        "from sklearn.metrics import mean_squared_error, r2_score\n",
        "\n",
        "# Initialize and train the model\n",
        "model = LinearRegression()\n",
        "model.fit(X_train, y_train)\n",
        "\n",
        "\n",
        "# Predict on the test set\n",
        "y_pred = model.predict(X_test)\n",
        "\n",
        "# Calculate metrics\n",
        "mse = mean_squared_error(y_test, y_pred)\n",
        "r2 = r2_score(y_test, y_pred)\n",
        "\n",
        "print(f\"Mean Squared Error: {mse}\")\n",
        "print(f\"R^2 Score: {r2}\")\n",
        "\n"
      ],
      "metadata": {
        "colab": {
          "base_uri": "https://localhost:8080/"
        },
        "id": "IGFm6l6A7CzH",
        "outputId": "ec5f2957-112c-47d6-edb7-9fe6862095dd"
      },
      "execution_count": null,
      "outputs": [
        {
          "output_type": "stream",
          "name": "stdout",
          "text": [
            "Mean Squared Error: 2900.193628493482\n",
            "R^2 Score: 0.4526027629719195\n"
          ]
        }
      ]
    },
    {
      "cell_type": "markdown",
      "source": [
        "##  #Results"
      ],
      "metadata": {
        "id": "UoEz3QrR-Fvc"
      }
    },
    {
      "cell_type": "code",
      "source": [
        "import matplotlib.pyplot as plt\n",
        "\n",
        "# Example of plotting one feature against the target\n",
        "plt.scatter(X_test['bmi'], y_test, color='blue', label='Actual')\n",
        "plt.scatter(X_test['bmi'], y_pred, color='red', label='Predicted')\n",
        "plt.xlabel('BMI')\n",
        "plt.ylabel('Diabetes Progression')\n",
        "plt.title('Linear Regression: Actual vs Predicted')\n",
        "plt.legend()\n",
        "plt.show()\n"
      ],
      "metadata": {
        "colab": {
          "base_uri": "https://localhost:8080/",
          "height": 472
        },
        "id": "ZExvkouq-PAQ",
        "outputId": "e8fb51e1-9d91-4408-fe37-2c3ca4cc5d4e"
      },
      "execution_count": null,
      "outputs": [
        {
          "output_type": "display_data",
          "data": {
            "text/plain": [
              "<Figure size 640x480 with 1 Axes>"
            ],
            "image/png": "[encoded data removed]"
          },
          "metadata": {}
        }
      ]
    },
    {
      "cell_type": "markdown",
      "source": [
        "# Polynomial Regression"
      ],
      "metadata": {
        "id": "hEUfVJNq-wDf"
      }
    },
    {
      "cell_type": "markdown",
      "source": [
        "## Data Loading and preprocessing"
      ],
      "metadata": {
        "id": "ph-RItb4-yls"
      }
    },
    {
      "cell_type": "code",
      "source": [
        "from sklearn.datasets import load_diabetes\n",
        "import pandas as pd\n",
        "from sklearn.model_selection import train_test_split\n",
        "from sklearn.linear_model import LinearRegression\n",
        "from sklearn.preprocessing import PolynomialFeatures\n",
        "from sklearn.metrics import mean_squared_error, r2_score\n",
        "import matplotlib.pyplot as plt\n",
        "\n",
        "# Load the dataset\n",
        "diabetes = load_diabetes()\n",
        "data = pd.DataFrame(diabetes.data, columns=diabetes.feature_names)\n",
        "data['TARGET'] = diabetes.target\n",
        "\n",
        "# Define target variable and features\n",
        "X = data.drop('TARGET', axis=1)\n",
        "y = data['TARGET']\n",
        "\n",
        "\n"
      ],
      "metadata": {
        "id": "4vJ84EYT-4L8"
      },
      "execution_count": null,
      "outputs": []
    },
    {
      "cell_type": "markdown",
      "source": [
        "## #Split the data"
      ],
      "metadata": {
        "id": "9I1lTw11-3oS"
      }
    },
    {
      "cell_type": "code",
      "source": [
        "# Split the data into training and test sets\n",
        "X_train, X_test, y_train, y_test = train_test_split(X, y, test_size=0.2, random_state=42)\n",
        "\n",
        "# Polynomial Regression (example with degree 2)\n",
        "poly = PolynomialFeatures(degree=2)\n",
        "\n",
        "# Fit and transform the training data\n",
        "X_train_poly = poly.fit_transform(X_train)\n",
        "# Transform the test data\n",
        "X_test_poly = poly.transform(X_test)\n",
        "\n",
        "# Train the polynomial regression model\n",
        "poly_reg = LinearRegression()\n",
        "poly_reg.fit(X_train_poly, y_train)\n",
        "\n",
        "# Predict using the model\n",
        "y_pred_poly = poly_reg.predict(X_test_poly)\n",
        "\n",
        "\n"
      ],
      "metadata": {
        "id": "eyhF2As4-6t8"
      },
      "execution_count": null,
      "outputs": []
    },
    {
      "cell_type": "markdown",
      "source": [
        "##  # Training and Evaluation"
      ],
      "metadata": {
        "id": "Q68KYyXQ-6-j"
      }
    },
    {
      "cell_type": "code",
      "source": [
        "# Evaluate the model\n",
        "print(\"Polynomial Regression (degree 2):\")\n",
        "print(\"Mean Squared Error:\", mean_squared_error(y_test, y_pred_poly))\n",
        "print(\"R^2 Score:\", r2_score(y_test, y_pred_poly))\n",
        "\n",
        "# Visualize results for one feature (e.g., 'bmi') - For visualization, focus on single feature\n",
        "# Transform 'bmi' feature to polynomial features\n",
        "X_bmi = X[['bmi']]\n",
        "X_bmi_poly = poly.fit_transform(X_bmi)\n",
        "\n",
        "# Split the transformed data for visualization\n",
        "X_bmi_train_poly, X_bmi_test_poly, y_train_bmi, y_test_bmi = train_test_split(X_bmi_poly, y, test_size=0.2, random_state=42)\n",
        "\n",
        "# Train the model on 'bmi' feature\n",
        "poly_reg.fit(X_bmi_train_poly, y_train_bmi)\n",
        "y_pred_bmi_poly = poly_reg.predict(X_bmi_test_poly)\n",
        "\n",
        "# Plotting\n",
        "plt.figure(figsize=(5,6))\n",
        "plt.scatter(X_bmi_test_poly[:, 1], y_test_bmi, color='blue', label='Actual')\n",
        "plt.scatter(X_bmi_test_poly[:, 1], y_pred_bmi_poly, color='red', label='Predicted (Polynomial)')\n",
        "plt.xlabel('BMI')\n",
        "plt.ylabel('Diabetes Progression')\n",
        "plt.title('Polynomial Regression: Actual vs Predicted')\n",
        "plt.legend()\n",
        "plt.show()\n"
      ],
      "metadata": {
        "colab": {
          "base_uri": "https://localhost:8080/",
          "height": 616
        },
        "id": "aBZSYJg8-_WV",
        "outputId": "90f6fe7e-6b05-41ff-828c-2ef2a2a809b2"
      },
      "execution_count": null,
      "outputs": [
        {
          "output_type": "stream",
          "name": "stdout",
          "text": [
            "Polynomial Regression (degree 2):\n",
            "Mean Squared Error: 3096.028307344255\n",
            "R^2 Score: 0.4156399336408033\n"
          ]
        },
        {
          "output_type": "display_data",
          "data": {
            "text/plain": [
              "<Figure size 500x600 with 1 Axes>"
            ],
            "image/png": "[encoded data removed]"
          },
          "metadata": {}
        }
      ]
    }
  ]
}